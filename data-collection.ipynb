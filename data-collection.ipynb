{
 "cells": [
  {
   "cell_type": "code",
   "execution_count": 215,
   "metadata": {},
   "outputs": [],
   "source": [
    "import gender_guesser.detector as gender\n",
    "import pandas as pd\n",
    "from imdb import IMDb\n",
    "from lxml import etree\n",
    "from tqdm.auto import tqdm"
   ]
  },
  {
   "cell_type": "code",
   "execution_count": 235,
   "metadata": {},
   "outputs": [],
   "source": [
    "def extract_film_ids(list_of_lists):\n",
    "    parser = etree.HTMLParser()\n",
    "    imdb_ids = []\n",
    "    for file in list_of_lists:\n",
    "        tree = etree.parse(\"imdb_lists/\" + file, parser)\n",
    "        links = tree.xpath(\"/html/body/div/div/div/div/div/div/div/div/div/div/h3/a/@href\")\n",
    "        ids = [link.split(\"/\")[2][2:] for link in links]\n",
    "        imdb_ids = imdb_ids + ids\n",
    "    return imdb_ids"
   ]
  },
  {
   "cell_type": "code",
   "execution_count": 242,
   "metadata": {},
   "outputs": [],
   "source": [
    "def query_api(imdb_ids):\n",
    "    ia = IMDb()\n",
    "    \n",
    "    movie_objects = []\n",
    "    for imdbid in tqdm(imdb_ids):\n",
    "        movie_objects.append(ia.get_movie(imdbid))\n",
    "    return movie_objects"
   ]
  },
  {
   "cell_type": "code",
   "execution_count": 237,
   "metadata": {},
   "outputs": [],
   "source": [
    "def create_movies_df(imdb_ids, movie_objects):\n",
    "    movies = pd.DataFrame(index=imdb_ids)\n",
    "    movies['imdb_rank'] = list(range(1,101))\n",
    "\n",
    "    for imdbid, m in zip(imdb_ids, movie_objects):\n",
    "        movies.loc[imdbid, \"Title\"] = m.get(\"title\")\n",
    "        movies.loc[imdbid, \"Year\"] = m.get(\"year\")\n",
    "        movies.loc[imdbid, \"Countries\"] = \",\".join(m.get(\"country\"))\n",
    "        box_office = m.get(\"box office\")\n",
    "        if box_office:\n",
    "            try:\n",
    "                movies.loc[imdbid, \"Budget\"] = box_office['Budget']\n",
    "            except:\n",
    "                pass\n",
    "            try:\n",
    "                movies.loc[imdbid, \"Cumulative Worldwide Gross\"] = box_office['Cumulative Worldwide Gross']\n",
    "            except:\n",
    "                pass\n",
    "            try:\n",
    "                movies.loc[imdbid, \"Opening Weekend United States\"] = box_office['Opening Weekend United States']\n",
    "            except:\n",
    "                pass\n",
    "        movies.loc[imdbid, \"Rating\"] = m.get(\"rating\")\n",
    "    \n",
    "    return movies\n",
    "\n",
    "def create_people_df(imdb_ids, movie_objects):\n",
    "    people = pd.DataFrame(columns=[\"Role\", \"Name\", \"Movie\"])\n",
    "\n",
    "    for imdbid, m in zip(imdb_ids, movie_objects):\n",
    "        for role in ['writers', 'directors', 'actors']:\n",
    "            folks = m.get(role)\n",
    "            if folks:\n",
    "                if role == \"actors\":\n",
    "                    folks = folks[0:3]\n",
    "\n",
    "                for folk in folks:\n",
    "                    if 'name' in folk.data:\n",
    "                        pid = len(people)+1\n",
    "                        people.loc[pid, 'Role'] = role[:-1]\n",
    "                        people.loc[pid, 'Movie'] = imdbid\n",
    "                        people.loc[pid, 'Name'] = folk.data['name']\n",
    "\n",
    "    d = gender.Detector()\n",
    "    people['gender'] = people.Name.map(lambda x: d.get_gender(x.split(\" \")[0]))\n",
    "    \n",
    "    return people"
   ]
  },
  {
   "cell_type": "code",
   "execution_count": null,
   "metadata": {},
   "outputs": [],
   "source": [
    "list1 = [\"top100_comedy_1.html\", \"top100_comedy_2.html\"]\n",
    "list2 = [\"top100_comedy_selection_1.html\", \"top100_comedy_selection_2.html\"]\n",
    "list_lists = [list1, list2]\n",
    "\n",
    "top_types = [\"top100\", \"top100_selection\"]"
   ]
  },
  {
   "cell_type": "code",
   "execution_count": null,
   "metadata": {},
   "outputs": [],
   "source": [
    "for l, t in zip(list_lists, top_types):\n",
    "    # Extract IMDB movie IDs\n",
    "    imdb_ids = extract_film_ids(l)\n",
    "    \n",
    "    # Query API for movie metadata\n",
    "    movie_objects = query_api(imdb_ids)\n",
    "    \n",
    "    # Create movies and people dataframes\n",
    "    movies = create_movies_df(imdb_ids, movie_objects)\n",
    "    people = create_people_df(imdb_ids, movie_objects)\n",
    "    \n",
    "    # Export dataframes\n",
    "    movies.to_csv(t + \"/movies.csv\")\n",
    "    people.to_csv(t + \"/people.csv\")"
   ]
  }
 ],
 "metadata": {
  "kernelspec": {
   "display_name": "altmetrics",
   "language": "python",
   "name": "altmetrics"
  },
  "language_info": {
   "codemirror_mode": {
    "name": "ipython",
    "version": 3
   },
   "file_extension": ".py",
   "mimetype": "text/x-python",
   "name": "python",
   "nbconvert_exporter": "python",
   "pygments_lexer": "ipython3",
   "version": "3.5.2"
  }
 },
 "nbformat": 4,
 "nbformat_minor": 4
}
